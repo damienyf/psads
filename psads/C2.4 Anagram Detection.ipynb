{
 "cells": [
  {
   "cell_type": "markdown",
   "metadata": {},
   "source": [
    "**Our goal is to write a boolean function that will take two strings and return whether they are anagrams.**\n",
    "\n",
    " One string is an anagram of another if the second is simply a rearrangement of the first. For example, 'heart' and 'earth' are anagrams. The strings 'python' and 'typhon' are anagrams as well. For the sake of simplicity, we will assume that the two strings in question are of equal length and that they are made up of symbols from the set of 26 lowercase alphabetic characters. "
   ]
  },
  {
   "cell_type": "markdown",
   "metadata": {},
   "source": [
    "** Solution 1: Checking Off **"
   ]
  },
  {
   "cell_type": "code",
   "execution_count": 8,
   "metadata": {
    "collapsed": false
   },
   "outputs": [
    {
     "name": "stdout",
     "output_type": "stream",
     "text": [
      "True\n"
     ]
    }
   ],
   "source": [
    "def anagramSolution1(s1, s2):\n",
    "#     python string is immutable, convert it to list first\n",
    "    alist = list(s2)\n",
    "    \n",
    "    pos1 = 0\n",
    "    stillOK = True\n",
    "#     outer loop\n",
    "    while pos1 < len(s1) and stillOK:\n",
    "        pos2 = 0\n",
    "        found = False\n",
    "        \n",
    "        while pos2 < len(alist) and not found:\n",
    "            if s1[pos1] == alist[pos2]:\n",
    "                found = True\n",
    "            else: pos2 = pos2 + 1\n",
    "                \n",
    "        \n",
    "        if found:\n",
    "            alist[pos2] = None\n",
    "        else:\n",
    "            stillOK = False\n",
    "            \n",
    "        pos1 = pos1 + 1\n",
    "        \n",
    "    return stillOK\n",
    "\n",
    "print(anagramSolution1('abcd', 'dcba'))\n",
    "        \n",
    "    \n",
    "    "
   ]
  },
  {
   "cell_type": "markdown",
   "metadata": {},
   "source": [
    "** Solution 2: Sort and Compare **"
   ]
  },
  {
   "cell_type": "markdown",
   "metadata": {},
   "source": [
    "Note the sort will have $nlogn$ or $n^{2}$ complexity"
   ]
  },
  {
   "cell_type": "code",
   "execution_count": 1,
   "metadata": {
    "collapsed": false
   },
   "outputs": [
    {
     "name": "stdout",
     "output_type": "stream",
     "text": [
      "True\n"
     ]
    }
   ],
   "source": [
    "def anagramSolution2(s1,s2):\n",
    "    alist1 = list(s1)\n",
    "    alist2 = list(s2)\n",
    "\n",
    "    alist1.sort()\n",
    "    alist2.sort()\n",
    "\n",
    "    pos = 0\n",
    "    matches = True\n",
    "\n",
    "    while pos < len(s1) and matches:\n",
    "        if alist1[pos]==alist2[pos]:\n",
    "            pos = pos + 1\n",
    "        else:\n",
    "            matches = False\n",
    "\n",
    "    return matches\n",
    "\n",
    "print(anagramSolution2('abcde','edcba'))"
   ]
  },
  {
   "cell_type": "markdown",
   "metadata": {},
   "source": [
    "** Solution 3: Brute Force **\n",
    "\n",
    "We can permute all possible combinations n! of the letters in one word and check out if the other word is in them..."
   ]
  },
  {
   "cell_type": "markdown",
   "metadata": {},
   "source": [
    "** Solution 4: Count and Compare **"
   ]
  },
  {
   "cell_type": "markdown",
   "metadata": {},
   "source": [
    "The idea is to count the number of characters in a word -- since to determine if two words are anagram, we will only need the frequency of each character, not really the order.\n",
    "\n",
    "The key idea is to create a historgram for 26 letters, and conviniently convert the letters into indices so we can do +=1 operation."
   ]
  },
  {
   "cell_type": "code",
   "execution_count": 2,
   "metadata": {
    "collapsed": false
   },
   "outputs": [
    {
     "name": "stdout",
     "output_type": "stream",
     "text": [
      "True\n"
     ]
    }
   ],
   "source": [
    "def anagramSolution4(s1, s2):\n",
    "    histo1 = [0] * 26\n",
    "    histo2 = [0] * 26\n",
    "    s1 = s1.lower()\n",
    "    s2 = s2.lower()\n",
    "\n",
    "    for i in range(len(s1)):\n",
    "        ind = ord(s1[i]) - ord('a')\n",
    "        histo1[ind] += 1\n",
    "\n",
    "    for i in range(len(s1)):\n",
    "        ind = ord(s2[i]) - ord('a')\n",
    "        histo2[ind] += 1\n",
    "\n",
    "\n",
    "    j = 0\n",
    "    match = True\n",
    "\n",
    "    while j < 26 and match:\n",
    "        if histo1[j] == histo2[j]:\n",
    "            j += 1\n",
    "        else:\n",
    "            match = False\n",
    "    return match\n",
    "\n",
    "if __name__ == \"__main__\":\n",
    "    print(anagramSolution4('apple','ppela'))  "
   ]
  }
 ],
 "metadata": {
  "anaconda-cloud": {},
  "kernelspec": {
   "display_name": "Python [conda root]",
   "language": "python",
   "name": "conda-root-py"
  },
  "language_info": {
   "codemirror_mode": {
    "name": "ipython",
    "version": 3
   },
   "file_extension": ".py",
   "mimetype": "text/x-python",
   "name": "python",
   "nbconvert_exporter": "python",
   "pygments_lexer": "ipython3",
   "version": "3.5.2"
  }
 },
 "nbformat": 4,
 "nbformat_minor": 1
}
