{
 "cells": [
  {
   "cell_type": "markdown",
   "metadata": {},
   "source": [
    "** Hashing **\n",
    "\n",
    "A data structure that can be searched with O(1) time complexity"
   ]
  },
  {
   "cell_type": "markdown",
   "metadata": {},
   "source": [
    "<img src = \"http://interactivepython.org/runestone/static/pythonds/_images/hashtable2.png\">\n",
    "\n",
    "The mapping between an item and the slot where that item belongs in the hash table is called the ** hash function **. \n",
    "$$(h(item)=mod(item,11))$$\n",
    "$$load factor: lambda = \\frac{numberofitems} {tablesize}$$\n",
    "According to the hash function, if two or more items would need to be in the same slot. This is referred to as a collision (it may also be called a “clash”)."
   ]
  },
  {
   "cell_type": "code",
   "execution_count": null,
   "metadata": {
    "collapsed": true
   },
   "outputs": [],
   "source": []
  }
 ],
 "metadata": {
  "kernelspec": {
   "display_name": "Python [conda root]",
   "language": "python",
   "name": "conda-root-py"
  },
  "language_info": {
   "codemirror_mode": {
    "name": "ipython",
    "version": 3
   },
   "file_extension": ".py",
   "mimetype": "text/x-python",
   "name": "python",
   "nbconvert_exporter": "python",
   "pygments_lexer": "ipython3",
   "version": "3.5.2"
  }
 },
 "nbformat": 4,
 "nbformat_minor": 1
}
