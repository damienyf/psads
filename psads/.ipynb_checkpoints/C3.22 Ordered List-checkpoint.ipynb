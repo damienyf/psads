{
 "cells": [
  {
   "cell_type": "markdown",
   "metadata": {},
   "source": [
    "** Implementing Ordered List **"
   ]
  },
  {
   "cell_type": "markdown",
   "metadata": {},
   "source": [
    "In order to implement the ordered list, we must remember that the relative positions of the items are based on some underlying characteristic. The ordered list of integers given above (17, 26, 31, 54, 77, and 93) can be represented by a linked structure as shown in Figure 15. Again, the node and link structure is ideal for representing the relative positioning of the items.\n",
    "\n",
    "<img src= \"http://interactivepython.org/runestone/static/pythonds/_images/orderlinkedlist.png\" >"
   ]
  },
  {
   "cell_type": "markdown",
   "metadata": {},
   "source": [
    "Again, let's create node class first"
   ]
  },
  {
   "cell_type": "code",
   "execution_count": null,
   "metadata": {
    "collapsed": true
   },
   "outputs": [],
   "source": [
    "class Node:\n",
    "    def __init__(self, initdata):\n",
    "        self.data = initdata\n",
    "        self.next = None\n",
    "    \n",
    "    def getData(self):\n",
    "        return self.data\n",
    "\n",
    "    def getNext(self):\n",
    "        return self.next\n",
    "\n",
    "    def setData(self,newdata):\n",
    "        self.data = newdata\n",
    "\n",
    "    def setNext(self,newnext):\n",
    "        self.next = newnext"
   ]
  },
  {
   "cell_type": "markdown",
   "metadata": {},
   "source": [
    "There's no change for isEmpty and size methods. remove method will work just fine as well"
   ]
  },
  {
   "cell_type": "markdown",
   "metadata": {},
   "source": [
    "Add method need to account for the order of items:\n",
    "<img src = \"http://interactivepython.org/runestone/static/pythonds/_images/linkedlistinsert.png\" >"
   ]
  },
  {
   "cell_type": "code",
   "execution_count": null,
   "metadata": {
    "collapsed": true
   },
   "outputs": [],
   "source": [
    "class Orderedlist:\n",
    "    def __init__(self):\n",
    "        self.head = None\n",
    "        \n",
    "    \n",
    "    def isEmpty(self):\n",
    "        return self.head == None\n",
    "\n",
    "# the idea is to move through the list until the end (node.next = None)\n",
    "    def size(self):\n",
    "        current = self.head\n",
    "        cnt  = 0\n",
    "        while not self.next None:\n",
    "            cnt = 1\n",
    "            current = self.head.getNext()\n",
    "        return cnt\n",
    "    \n",
    "    def remove(self, item):\n",
    "        previous = None\n",
    "        current = self.head.getNext()\n",
    "        found = False\n",
    "        # there are 3 cases: 1 not found, 2 found at head, 3 found at middle (when there's previous node)\n",
    "\n",
    "        while not found and current != None:\n",
    "            if  current.getData() == item:\n",
    "                found = True\n",
    "            else:\n",
    "                previous = current\n",
    "                current = current.getNext()\n",
    "                \n",
    "        if current != None:\n",
    "            if previous != None:\n",
    "                previous.setNext(current.getNext())\n",
    "            else:\n",
    "                self.head = current.getNext()\n",
    "\n",
    "    def search(slef, item):\n",
    "        \n",
    "        found = False\n",
    "        stop = False\n",
    "\n",
    "        while not found and current != None and not stop:\n",
    "            if current.getData() == item:\n",
    "                found = True\n",
    "            elif current.getData() > item:\n",
    "                stop = True\n",
    "            else:\n",
    "                current = current.getNext()\n",
    "        return found\n",
    "    \n",
    "    \n",
    "    def add(self, item):\n",
    "        # add function needs to take care of the 'order' of the list..\n",
    "        previous = None\n",
    "        current = self.head.getNext()\n",
    "        # do a search first\n",
    "        stop = False\n",
    "        while current != None:\n",
    "            if current.getData() < item:\n",
    "                stop = True\n",
    "            else:\n",
    "                previous = current\n",
    "                current = current.getNext()\n",
    "\n",
    "        temp = Node(item)\n",
    "        if previous != None:\n",
    "            previous.setNext(temp)\n",
    "            temp.setNext(current)\n",
    "        else:\n",
    "            self.head = temp\n",
    "            temp.setNext(self.head)\n"
   ]
  },
  {
   "cell_type": "code",
   "execution_count": null,
   "metadata": {
    "collapsed": true
   },
   "outputs": [],
   "source": [
    "mylist = OrderedList()\n",
    "mylist.add(31)\n",
    "mylist.add(77)\n",
    "mylist.add(17)\n",
    "mylist.add(93)\n",
    "mylist.add(26)\n",
    "mylist.add(54)\n",
    "\n",
    "print(mylist.size())\n",
    "print(mylist.search(93))\n",
    "print(mylist.search(100))\n"
   ]
  }
 ],
 "metadata": {
  "anaconda-cloud": {},
  "kernelspec": {
   "display_name": "Python [conda root]",
   "language": "python",
   "name": "conda-root-py"
  },
  "language_info": {
   "codemirror_mode": {
    "name": "ipython",
    "version": 3
   },
   "file_extension": ".py",
   "mimetype": "text/x-python",
   "name": "python",
   "nbconvert_exporter": "python",
   "pygments_lexer": "ipython3",
   "version": "3.5.2"
  }
 },
 "nbformat": 4,
 "nbformat_minor": 1
}
