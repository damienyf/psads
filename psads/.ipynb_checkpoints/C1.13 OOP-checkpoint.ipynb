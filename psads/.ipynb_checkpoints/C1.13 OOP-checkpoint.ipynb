{
 "cells": [
  {
   "cell_type": "markdown",
   "metadata": {},
   "source": [
    "### OOP ###"
   ]
  },
  {
   "cell_type": "markdown",
   "metadata": {},
   "source": [
    "let's start with a simple exmaple of 'fraction object'. Which will stor the fraction numbers as is.\n",
    "\n",
    "constructor"
   ]
  },
  {
   "cell_type": "code",
   "execution_count": 2,
   "metadata": {
    "collapsed": true
   },
   "outputs": [],
   "source": [
    "class Fraction:\n",
    "    \n",
    "    def __init__(self, top, bottom):\n",
    "        self.num = top\n",
    "        self.den = bottom"
   ]
  },
  {
   "cell_type": "code",
   "execution_count": 3,
   "metadata": {
    "collapsed": false,
    "scrolled": true
   },
   "outputs": [
    {
     "name": "stdout",
     "output_type": "stream",
     "text": [
      "<__main__.Fraction object at 0x052A0150>\n"
     ]
    }
   ],
   "source": [
    "myfraction = Fraction(3,5)\n",
    "print(myfraction)"
   ]
  },
  {
   "cell_type": "markdown",
   "metadata": {},
   "source": [
    "Now we need to create a \\__str__ method for print"
   ]
  },
  {
   "cell_type": "code",
   "execution_count": 4,
   "metadata": {
    "collapsed": true
   },
   "outputs": [],
   "source": [
    "class Fraction:\n",
    "    \n",
    "    def __init__(self, top, bottom):\n",
    "        self.num = top\n",
    "        self.den = bottom\n",
    "    \n",
    "    def __str__(self):\n",
    "        return str(self.num) + '/' + str(self.den)"
   ]
  },
  {
   "cell_type": "code",
   "execution_count": 5,
   "metadata": {
    "collapsed": false,
    "scrolled": false
   },
   "outputs": [
    {
     "name": "stdout",
     "output_type": "stream",
     "text": [
      "3/5\n"
     ]
    }
   ],
   "source": [
    "myfraction = Fraction(3,5)\n",
    "print(myfraction)"
   ]
  },
  {
   "cell_type": "markdown",
   "metadata": {},
   "source": [
    "arithmetic operations\n",
    "the addition method in python (f1+f2) is implemented as f1.\\__add__(f2)"
   ]
  },
  {
   "cell_type": "code",
   "execution_count": 6,
   "metadata": {
    "collapsed": true
   },
   "outputs": [],
   "source": [
    "class Fraction:\n",
    "    \n",
    "    def __init__(self, top, bottom):\n",
    "        self.num = top\n",
    "        self.den = bottom\n",
    "    \n",
    "    def __str__(self):\n",
    "        return str(self.num) + '/' + str(self.den)\n",
    "    \n",
    "    def __add__(self, otherfraction):\n",
    "        newnum = self.num * otherfraction.den + self.den * otherfraction.num\n",
    "        newden = self.den * otherfraction.den\n",
    "#         return a new object\n",
    "        return Fraction(newnum, newden)"
   ]
  },
  {
   "cell_type": "code",
   "execution_count": 7,
   "metadata": {
    "collapsed": false
   },
   "outputs": [
    {
     "name": "stdout",
     "output_type": "stream",
     "text": [
      "6/8\n"
     ]
    }
   ],
   "source": [
    "f1 = Fraction(1,4)\n",
    "f2 = Fraction(1,2)\n",
    "f3 = f1 + f2\n",
    "print(f3)"
   ]
  },
  {
   "cell_type": "markdown",
   "metadata": {},
   "source": [
    "The calculation was right... however the result is not in the 'lowest terms' representation.\n",
    "Now we will implement the Euclid's Algorithm to find greatest common divisor, or GCD. Then we use GCD to divide both num and den."
   ]
  },
  {
   "cell_type": "code",
   "execution_count": 8,
   "metadata": {
    "collapsed": false
   },
   "outputs": [
    {
     "name": "stdout",
     "output_type": "stream",
     "text": [
      "10\n"
     ]
    }
   ],
   "source": [
    "def gcd(m, n):\n",
    "#     as long as residue is not zero\n",
    "    while m%n != 0:\n",
    "        oldm = m\n",
    "        oldn = n\n",
    "        m = oldn\n",
    "#         new divisor as residual of m divided by n\n",
    "        n = oldm%oldn\n",
    "#         print(n, oldm, oldn)\n",
    "    return n\n",
    "\n",
    "print(gcd(20,10))"
   ]
  },
  {
   "cell_type": "code",
   "execution_count": 9,
   "metadata": {
    "collapsed": true
   },
   "outputs": [],
   "source": [
    "class Fraction:\n",
    "    \n",
    "    def __init__(self, top, bottom):\n",
    "        self.num = top\n",
    "        self.den = bottom\n",
    "    \n",
    "    def __str__(self):\n",
    "        return str(self.num) + '/' + str(self.den)\n",
    "    \n",
    "    def __add__(self, otherfraction):\n",
    "        newnum = self.num * otherfraction.den + self.den * otherfraction.num\n",
    "        newden = self.den * otherfraction.den\n",
    "        comdiv = gcd(newnum, newden)\n",
    "#         return a new object\n",
    "#         // floor divide\n",
    "        return Fraction(newnum//comdiv, newden//comdiv)"
   ]
  },
  {
   "cell_type": "code",
   "execution_count": 10,
   "metadata": {
    "collapsed": false
   },
   "outputs": [
    {
     "name": "stdout",
     "output_type": "stream",
     "text": [
      "3/4\n"
     ]
    }
   ],
   "source": [
    "f1 = Fraction(1,4)\n",
    "f2 = Fraction(1,2)\n",
    "f3 = f1 + f2\n",
    "print(f3)"
   ]
  },
  {
   "cell_type": "markdown",
   "metadata": {},
   "source": [
    "implement deep equality (same value, not same reference to a common class)"
   ]
  },
  {
   "cell_type": "code",
   "execution_count": 11,
   "metadata": {
    "collapsed": false,
    "scrolled": true
   },
   "outputs": [
    {
     "name": "stdout",
     "output_type": "stream",
     "text": [
      "7/6\n",
      "False\n"
     ]
    }
   ],
   "source": [
    "class Fraction:\n",
    "    \n",
    "    def __init__(self, top, bottom):\n",
    "        self.num = top\n",
    "        self.den = bottom\n",
    "    \n",
    "    def __str__(self):\n",
    "        return str(self.num) + '/' + str(self.den)\n",
    "    \n",
    "    def __add__(self, otherfraction):\n",
    "        newnum = self.num * otherfraction.den + self.den * otherfraction.num\n",
    "        newden = self.den * otherfraction.den\n",
    "        comdiv = gcd(newnum, newden)\n",
    "#         return a new object\n",
    "#         // floor divide\n",
    "        return Fraction(newnum//comdiv, newden//comdiv)\n",
    "\n",
    "    def __eq__(self, other):\n",
    "        firstnum = self.num * other.den\n",
    "        secondnum = other.num * self.den\n",
    "        return firstnum == secondnum\n",
    "    \n",
    "x = Fraction(1,2)\n",
    "y = Fraction(2,3)\n",
    "print(x+y)\n",
    "print(x == y)"
   ]
  },
  {
   "cell_type": "markdown",
   "metadata": {},
   "source": [
    "#### Inheritance: Logic Gates and Circuits ####"
   ]
  },
  {
   "cell_type": "markdown",
   "metadata": {},
   "source": [
    "<img src=\"http://interactivepython.org/runestone/static/pythonds/_images/circuit1.png\">\n"
   ]
  },
  {
   "cell_type": "markdown",
   "metadata": {},
   "source": [
    "We start with the most general representation of gate characteristic - LogicGate. Then next level of subclasses breaks the logic gates into two families, those that have one input line and those that have two."
   ]
  },
  {
   "cell_type": "markdown",
   "metadata": {},
   "source": [
    "<img src=\"http://interactivepython.org/runestone/static/pythonds/_images/gates.png\">\n"
   ]
  },
  {
   "cell_type": "code",
   "execution_count": 12,
   "metadata": {
    "collapsed": true
   },
   "outputs": [],
   "source": [
    "class LogicGate:\n",
    "    \n",
    "    def __init__(self, n):\n",
    "        self.label = n\n",
    "        self.output = None\n",
    "        \n",
    "    def getLabel(self):\n",
    "        return self.label\n",
    "    \n",
    "    def getOutput(self):\n",
    "        self.output = self.performGateLogic()\n",
    "        return self.output\n",
    "    "
   ]
  },
  {
   "cell_type": "markdown",
   "metadata": {},
   "source": [
    "LogicGate will not be called directly... Instead, the method will be further defined in subclasses"
   ]
  },
  {
   "cell_type": "code",
   "execution_count": 13,
   "metadata": {
    "collapsed": false,
    "scrolled": false
   },
   "outputs": [
    {
     "ename": "AttributeError",
     "evalue": "'LogicGate' object has no attribute 'performGateLogic'",
     "output_type": "error",
     "traceback": [
      "\u001b[0;31m---------------------------------------------------------------------------\u001b[0m",
      "\u001b[0;31mAttributeError\u001b[0m                            Traceback (most recent call last)",
      "\u001b[0;32m<ipython-input-13-a8ba5cf4b8c8>\u001b[0m in \u001b[0;36m<module>\u001b[0;34m()\u001b[0m\n\u001b[1;32m      1\u001b[0m \u001b[1;31m# if you call the prime class now, you will get an error\u001b[0m\u001b[1;33m\u001b[0m\u001b[1;33m\u001b[0m\u001b[0m\n\u001b[1;32m      2\u001b[0m \u001b[0mtest_logicgate\u001b[0m \u001b[1;33m=\u001b[0m \u001b[0mLogicGate\u001b[0m\u001b[1;33m(\u001b[0m\u001b[1;34m\"L1\"\u001b[0m\u001b[1;33m)\u001b[0m\u001b[1;33m\u001b[0m\u001b[0m\n\u001b[0;32m----> 3\u001b[0;31m \u001b[0mtest_logicgate\u001b[0m\u001b[1;33m.\u001b[0m\u001b[0mgetOutput\u001b[0m\u001b[1;33m(\u001b[0m\u001b[1;33m)\u001b[0m\u001b[1;33m\u001b[0m\u001b[0m\n\u001b[0m",
      "\u001b[0;32m<ipython-input-12-77bf243c9e7f>\u001b[0m in \u001b[0;36mgetOutput\u001b[0;34m(self)\u001b[0m\n\u001b[1;32m      9\u001b[0m \u001b[1;33m\u001b[0m\u001b[0m\n\u001b[1;32m     10\u001b[0m     \u001b[1;32mdef\u001b[0m \u001b[0mgetOutput\u001b[0m\u001b[1;33m(\u001b[0m\u001b[0mself\u001b[0m\u001b[1;33m)\u001b[0m\u001b[1;33m:\u001b[0m\u001b[1;33m\u001b[0m\u001b[0m\n\u001b[0;32m---> 11\u001b[0;31m         \u001b[0mself\u001b[0m\u001b[1;33m.\u001b[0m\u001b[0moutput\u001b[0m \u001b[1;33m=\u001b[0m \u001b[0mself\u001b[0m\u001b[1;33m.\u001b[0m\u001b[0mperformGateLogic\u001b[0m\u001b[1;33m(\u001b[0m\u001b[1;33m)\u001b[0m\u001b[1;33m\u001b[0m\u001b[0m\n\u001b[0m\u001b[1;32m     12\u001b[0m         \u001b[1;32mreturn\u001b[0m \u001b[0mself\u001b[0m\u001b[1;33m.\u001b[0m\u001b[0moutput\u001b[0m\u001b[1;33m\u001b[0m\u001b[0m\n\u001b[1;32m     13\u001b[0m \u001b[1;33m\u001b[0m\u001b[0m\n",
      "\u001b[0;31mAttributeError\u001b[0m: 'LogicGate' object has no attribute 'performGateLogic'"
     ]
    }
   ],
   "source": [
    "# if you call the prime class now, you will get an error\n",
    "test_logicgate = LogicGate(\"L1\")\n",
    "test_logicgate.getOutput()"
   ]
  },
  {
   "cell_type": "markdown",
   "metadata": {},
   "source": [
    "...futher define the subclass by creating unary and binary gate classes. Each of them will get methods unique to their subclass characteristics."
   ]
  },
  {
   "cell_type": "code",
   "execution_count": 14,
   "metadata": {
    "collapsed": true
   },
   "outputs": [],
   "source": [
    "class UnaryGate(LogicGate):\n",
    "\n",
    "    def __init__(self,n):\n",
    "        LogicGate.__init__(self,n)\n",
    "\n",
    "        self.pin = None\n",
    "\n",
    "    def getPin(self):\n",
    "        return int(input(\"Enter Pin input for gate \"+ self.getLabel()+\"-->\"))"
   ]
  },
  {
   "cell_type": "code",
   "execution_count": 14,
   "metadata": {
    "collapsed": true
   },
   "outputs": [],
   "source": [
    "class BinaryGate(LogicGate):\n",
    "    \n",
    "    def __init__(self, n):\n",
    "        LogicGate.__init__(self,n)\n",
    "        \n",
    "        self.pinA = None\n",
    "        self.pinB = None\n",
    "        \n",
    "    def getPinA(self):\n",
    "        return int(input(\"Enter Pin A input for gate \" + self.getLabel() + \"-->\"))\n",
    "    \n",
    "    def getPinB(self):\n",
    "        return int(input(\"Enter Pin B input for gate \" + self.getLabel() + \"-->\"))\n",
    "    "
   ]
  },
  {
   "cell_type": "markdown",
   "metadata": {},
   "source": [
    "You need to speicify the input parameter for label n when the object is created and label should be string objects"
   ]
  },
  {
   "cell_type": "code",
   "execution_count": 12,
   "metadata": {
    "collapsed": true
   },
   "outputs": [],
   "source": [
    "test_binarygate = BinaryGate(\"G1\")"
   ]
  },
  {
   "cell_type": "markdown",
   "metadata": {},
   "source": [
    "getPinA() method will ask for user input"
   ]
  },
  {
   "cell_type": "code",
   "execution_count": 13,
   "metadata": {
    "collapsed": false,
    "scrolled": true
   },
   "outputs": [
    {
     "name": "stdout",
     "output_type": "stream",
     "text": [
      "Enter Pin A input for gate G1-->1\n"
     ]
    },
    {
     "data": {
      "text/plain": [
       "1"
      ]
     },
     "execution_count": 13,
     "metadata": {},
     "output_type": "execute_result"
    }
   ],
   "source": [
    "test_binarygate.getPinA()"
   ]
  },
  {
   "cell_type": "markdown",
   "metadata": {},
   "source": [
    "AndGate inherites BinaryGate. The performGateLogic function is define here."
   ]
  },
  {
   "cell_type": "code",
   "execution_count": 39,
   "metadata": {
    "collapsed": true
   },
   "outputs": [],
   "source": [
    "class AndGate(BinaryGate):\n",
    "    \n",
    "    def __init__(self, n):\n",
    "        BinaryGate.__init__(self, n)\n",
    "            \n",
    "    def performGateLogic(self):\n",
    "        \n",
    "        a = self.getPinA()\n",
    "        b = self.getPinB()\n",
    "        if a == 1 and b == 1:\n",
    "            return 1\n",
    "        else:\n",
    "            return 0"
   ]
  },
  {
   "cell_type": "markdown",
   "metadata": {},
   "source": [
    "when getOutput method is called. You will need to give the input label for pin A and pin B"
   ]
  },
  {
   "cell_type": "code",
   "execution_count": 40,
   "metadata": {
    "collapsed": false
   },
   "outputs": [
    {
     "name": "stdout",
     "output_type": "stream",
     "text": [
      "Enter Pin A input for gate G1-->1\n",
      "Enter Pin B input for gateG1-->0\n"
     ]
    },
    {
     "data": {
      "text/plain": [
       "0"
      ]
     },
     "execution_count": 40,
     "metadata": {},
     "output_type": "execute_result"
    }
   ],
   "source": [
    "g1 = AndGate(\"G1\")\n",
    "g1.getOutput()"
   ]
  },
  {
   "cell_type": "markdown",
   "metadata": {},
   "source": [
    "Now let's create another two types of gates"
   ]
  },
  {
   "cell_type": "code",
   "execution_count": 19,
   "metadata": {
    "collapsed": true
   },
   "outputs": [],
   "source": [
    "class OrGate(BinaryGate):\n",
    "    \n",
    "    def __init__(self, n):\n",
    "        BinaryGate.__init__(self, n)\n",
    "            \n",
    "    def performGateLogic(self):\n",
    "        \n",
    "        a = self.getPinA()\n",
    "        b = self.getPinB()\n",
    "        if a == 1 or b == 1:\n",
    "            return 1\n",
    "        else:\n",
    "            return 0\n",
    "        \n",
    "        \n",
    "class NotGate(UnaryGate):\n",
    "    \n",
    "    def __init__(self, n):\n",
    "        UnaryGate.__init__(self, n)\n",
    "            \n",
    "    def performGateLogic(self):\n",
    "        a = self.getPin()\n",
    "        if a == 1:\n",
    "            return 0\n",
    "        else:\n",
    "            return 1"
   ]
  },
  {
   "cell_type": "markdown",
   "metadata": {},
   "source": [
    "Let's create a different object class called 'connector'.\n",
    "\n",
    "\n",
    "<img src=\"http://interactivepython.org/runestone/static/pythonds/_images/connector.png\">"
   ]
  },
  {
   "cell_type": "markdown",
   "metadata": {},
   "source": [
    "What connector would simply do is to pass the value from input gate to output date. \n",
    "\n",
    "Here the important part is **HAS-A Relationship**. Comparing to the **IS-A Relationship**, HAS-A says the Connector objects will have instances of LogicGate, but with no inheritance."
   ]
  },
  {
   "cell_type": "code",
   "execution_count": null,
   "metadata": {
    "collapsed": true
   },
   "outputs": [],
   "source": [
    "class Connector:\n",
    "    def __init__(self, fgate, tgate):\n",
    "        self.fromgate = fgate\n",
    "        self.togate = tgate\n",
    "        \n",
    "        tgate.setNextPin(self)\n",
    "    \n",
    "    def getFrom(self):\n",
    "        return self.fromgate\n",
    "    \n",
    "    def getTo(self):\n",
    "        return self.togate\n",
    "    \n"
   ]
  },
  {
   "cell_type": "markdown",
   "metadata": {},
   "source": [
    "Now, we need to add a setNextPin method to gate classes. We will do it at Unary and Binary class level, since the method will need to choose between two pins for binary class.\n",
    "\n",
    "The setNextPin will connect the gate object to connector using one of the input pins (only one pin for unary)."
   ]
  },
  {
   "cell_type": "code",
   "execution_count": 20,
   "metadata": {
    "collapsed": true
   },
   "outputs": [],
   "source": [
    "def setNextPin(self,source):\n",
    "    if self.pinA == None:\n",
    "        self.pinA = source\n",
    "    else:\n",
    "        if self.pinB == None:\n",
    "            self.pinB = source\n",
    "        else:\n",
    "#             there has to be at least one empty pin\n",
    "           raise RuntimeError(\"Error: NO EMPTY PINS\")"
   ]
  },
  {
   "cell_type": "markdown",
   "metadata": {},
   "source": [
    "Also we would need to modify the getPin methods in gate class. If the pin is connected, then we will not ask for user input."
   ]
  },
  {
   "cell_type": "code",
   "execution_count": 21,
   "metadata": {
    "collapsed": true
   },
   "outputs": [],
   "source": [
    "def getPinA(self):\n",
    "    if self.pinA == None:\n",
    "        return input(\"Enter Pin A input for gate \" + self.getName()+\"-->\")\n",
    "    else:\n",
    "        return self.pinA.getFrom().getOutput()"
   ]
  },
  {
   "cell_type": "markdown",
   "metadata": {},
   "source": [
    "Full program now:"
   ]
  },
  {
   "cell_type": "code",
   "execution_count": 38,
   "metadata": {
    "collapsed": false
   },
   "outputs": [],
   "source": [
    "class LogicGate:\n",
    "    \n",
    "    def __init__(self, n):\n",
    "        self.label = n\n",
    "        self.output = None\n",
    "        \n",
    "    def getLabel(self):\n",
    "        return self.label\n",
    "    \n",
    "    def getOutput(self):\n",
    "        self.output = self.performGateLogic()\n",
    "        return self.output\n",
    "    \n",
    "class UnaryGate(LogicGate):\n",
    "\n",
    "    def __init__(self,n):\n",
    "        LogicGate.__init__(self,n)\n",
    "\n",
    "        self.pin = None\n",
    "\n",
    "    def getPin(self):\n",
    "        if self.pin == None:\n",
    "            return int(input(\"Enter Pin input for gate \"+ self.getLabel()+\"-->\"))\n",
    "        else:\n",
    "#             self(current gate)->getFrom(the connected connector) -> getOutput(output of the previous gate)\n",
    "            return self.pin.getFrom().getOutput()\n",
    "    \n",
    "    def setNextPin(self, source):\n",
    "        if self.pin == None:\n",
    "            self.pin = source\n",
    "        else:\n",
    "            print('Cannot Connect: NO EMPTY PINS on this gate')\n",
    "\n",
    "\n",
    "class BinaryGate(LogicGate):\n",
    "    \n",
    "    def __init__(self, n):\n",
    "        LogicGate.__init__(self,n)\n",
    "        \n",
    "        self.pinA = None\n",
    "        self.pinB = None\n",
    "        \n",
    "    def getPinA(self):\n",
    "        if self.pinA == None:\n",
    "            return int(input(\"Enter Pin A input for gate \" + self.getLabel() + \"-->\"))\n",
    "        else:\n",
    "            return self.pinA.getFrom().getOutput()\n",
    "    \n",
    "    def getPinB(self):\n",
    "        if self.pinB == None:\n",
    "            return int(input(\"Enter Pin B input for gate \" + self.getLabel() + \"-->\"))\n",
    "        else:\n",
    "            return self.pinB.getFrom().getOutput()\n",
    "    \n",
    "    def setNextPin(self, source):\n",
    "        if self.pinA == None:\n",
    "            self.pinA = source\n",
    "        else:\n",
    "            if self.pinB == None:\n",
    "                self.pinB = source\n",
    "            else:\n",
    "                print(\"Cannot Connect: NO EMPTY PINS on this gate\")\n",
    "    \n",
    "class AndGate(BinaryGate):\n",
    "    \n",
    "    def __init__(self, n):\n",
    "        BinaryGate.__init__(self, n)\n",
    "            \n",
    "    def performGateLogic(self):\n",
    "        \n",
    "        a = self.getPinA()\n",
    "        b = self.getPinB()\n",
    "        if a == 1 and b == 1:\n",
    "            return 1\n",
    "        else:\n",
    "            return 0\n",
    "\n",
    "class OrGate(BinaryGate):\n",
    "    \n",
    "    def __init__(self, n):\n",
    "        BinaryGate.__init__(self, n)\n",
    "            \n",
    "    def performGateLogic(self):\n",
    "        \n",
    "        a = self.getPinA()\n",
    "        b = self.getPinB()\n",
    "        if a == 1 or b == 1:\n",
    "            return 1\n",
    "        else:\n",
    "            return 0\n",
    "        \n",
    "        \n",
    "class NotGate(UnaryGate):\n",
    "    \n",
    "    def __init__(self, n):\n",
    "        UnaryGate.__init__(self, n)\n",
    "            \n",
    "    def performGateLogic(self):\n",
    "        a = self.getPin()\n",
    "        if a == 1:\n",
    "            return 0\n",
    "        else:\n",
    "            return 1\n",
    "\n",
    "class Connector:\n",
    "    def __init__(self, fgate, tgate):\n",
    "        self.fromgate = fgate\n",
    "        self.togate = tgate\n",
    "        \n",
    "        tgate.setNextPin(self)\n",
    "    \n",
    "    def getFrom(self):\n",
    "        return self.fromgate\n",
    "    \n",
    "    def getTo(self):\n",
    "        return self.togate\n",
    "    \n",
    "\n"
   ]
  },
  {
   "cell_type": "markdown",
   "metadata": {
    "collapsed": true
   },
   "source": [
    "Test with a sample"
   ]
  },
  {
   "cell_type": "code",
   "execution_count": 39,
   "metadata": {
    "collapsed": true
   },
   "outputs": [],
   "source": [
    "g1 = AndGate(\"G1\")\n",
    "g2 = AndGate(\"G2\")\n",
    "g3 = OrGate(\"G3\")\n",
    "g4 = NotGate(\"G4\")\n",
    "c1 = Connector(g1, g3)\n",
    "c2 = Connector(g2, g3)\n",
    "c3 = Connector(g3, g4)"
   ]
  },
  {
   "cell_type": "code",
   "execution_count": 45,
   "metadata": {
    "collapsed": false,
    "scrolled": false
   },
   "outputs": [
    {
     "data": {
      "text/plain": [
       "['__class__',\n",
       " '__delattr__',\n",
       " '__dict__',\n",
       " '__dir__',\n",
       " '__doc__',\n",
       " '__eq__',\n",
       " '__format__',\n",
       " '__ge__',\n",
       " '__getattribute__',\n",
       " '__gt__',\n",
       " '__hash__',\n",
       " '__init__',\n",
       " '__le__',\n",
       " '__lt__',\n",
       " '__module__',\n",
       " '__ne__',\n",
       " '__new__',\n",
       " '__reduce__',\n",
       " '__reduce_ex__',\n",
       " '__repr__',\n",
       " '__setattr__',\n",
       " '__sizeof__',\n",
       " '__str__',\n",
       " '__subclasshook__',\n",
       " '__weakref__',\n",
       " 'getLabel',\n",
       " 'getOutput',\n",
       " 'getPinA',\n",
       " 'getPinB',\n",
       " 'label',\n",
       " 'output',\n",
       " 'performGateLogic',\n",
       " 'pinA',\n",
       " 'pinB',\n",
       " 'setNextPin']"
      ]
     },
     "execution_count": 45,
     "metadata": {},
     "output_type": "execute_result"
    }
   ],
   "source": [
    "dir(g1)"
   ]
  },
  {
   "cell_type": "code",
   "execution_count": 18,
   "metadata": {
    "collapsed": false,
    "scrolled": true
   },
   "outputs": [
    {
     "name": "stdout",
     "output_type": "stream",
     "text": [
      "Enter Pin A input for gate G1-->0\n",
      "Enter Pin B input for gate G1-->2\n",
      "Enter Pin B input for gate G3-->1\n",
      "0\n"
     ]
    }
   ],
   "source": [
    "def main():\n",
    "    g1 = AndGate(\"G1\")\n",
    "    g2 = AndGate(\"G2\")\n",
    "    g3 = OrGate(\"G3\")\n",
    "    g4 = NotGate(\"G4\")\n",
    "    c1 = Connector(g1, g3)\n",
    "    c2 = Connector(g2, g3)\n",
    "    c3 = Connector(g3, g4)\n",
    "    print(g4.getOutput())\n",
    "    \n",
    "main()"
   ]
  }
 ],
 "metadata": {
  "anaconda-cloud": {},
  "kernelspec": {
   "display_name": "Python [default]",
   "language": "python",
   "name": "python3"
  },
  "language_info": {
   "codemirror_mode": {
    "name": "ipython",
    "version": 3
   },
   "file_extension": ".py",
   "mimetype": "text/x-python",
   "name": "python",
   "nbconvert_exporter": "python",
   "pygments_lexer": "ipython3",
   "version": "3.5.2"
  }
 },
 "nbformat": 4,
 "nbformat_minor": 1
}
