{
 "cells": [
  {
   "cell_type": "markdown",
   "metadata": {},
   "source": [
    "** Fibonacci **"
   ]
  },
  {
   "cell_type": "code",
   "execution_count": 8,
   "metadata": {
    "collapsed": true
   },
   "outputs": [],
   "source": [
    "def Fib(n):\n",
    "    if n <=2:\n",
    "        return 1\n",
    "    else:\n",
    "        return Fib(n-1) + Fib(n-2)"
   ]
  },
  {
   "cell_type": "code",
   "execution_count": 10,
   "metadata": {
    "collapsed": false,
    "scrolled": true
   },
   "outputs": [
    {
     "data": {
      "text/plain": [
       "55"
      ]
     },
     "execution_count": 10,
     "metadata": {},
     "output_type": "execute_result"
    }
   ],
   "source": [
    "Fib(10)"
   ]
  },
  {
   "cell_type": "markdown",
   "metadata": {
    "collapsed": true
   },
   "source": [
    "** Tower of Hanoi **"
   ]
  },
  {
   "cell_type": "code",
   "execution_count": 2,
   "metadata": {
    "collapsed": false
   },
   "outputs": [],
   "source": [
    "def moveDisk(fp, tp):\n",
    "    print(\"moving disk from\", fp, \"to\", tp)\n",
    "    \n",
    "def moveTower(height, fromPole, toPole, withPole):\n",
    "    if height >= 1:\n",
    "#         move top n-1 disks to middle pole, using toPole\n",
    "        moveTower(height -1, fromPole, withPole, toPole)\n",
    "#     move bottom disk\n",
    "        moveDisk(fromPole, toPole)\n",
    "#     move top n-1 disks from middle pole, using fromPole\n",
    "        moveTower(height - 1, withPole, toPole, fromPole)"
   ]
  },
  {
   "cell_type": "code",
   "execution_count": 3,
   "metadata": {
    "collapsed": false,
    "scrolled": true
   },
   "outputs": [
    {
     "name": "stdout",
     "output_type": "stream",
     "text": [
      "moving disk from A to B\n",
      "moving disk from A to C\n",
      "moving disk from B to C\n",
      "moving disk from A to B\n",
      "moving disk from C to A\n",
      "moving disk from C to B\n",
      "moving disk from A to B\n"
     ]
    }
   ],
   "source": [
    "moveTower(3,\"A\",\"B\",\"C\")"
   ]
  },
  {
   "cell_type": "markdown",
   "metadata": {},
   "source": [
    "** Exploring a Maze **"
   ]
  },
  {
   "cell_type": "markdown",
   "metadata": {},
   "source": [
    "** Dynamic Programming **"
   ]
  },
  {
   "cell_type": "markdown",
   "metadata": {},
   "source": [
    "A classic example of an optimization problem involves making change using the fewest coins. Suppose you are a programmer for a vending machine manufacturer. Your company wants to streamline effort by giving out the fewest possible coins in change for each transaction. Suppose a customer puts in a dollar bill and purchases an item for 37 cents. What is the smallest number of coins you can use to make change? The answer is six coins: two quarters, one dime, and three pennies. How did we arrive at the answer of six coins? We start with the largest coin in our arsenal (a quarter) and use as many of those as possible, then we go to the next lowest coin value and use as many of those as possible. This first approach is called a greedy method because we try to solve as big a piece of the problem as possible right away."
   ]
  },
  {
   "cell_type": "markdown",
   "metadata": {},
   "source": [
    "If the amount does not match we have several options. \n",
    "What we want is the minimum of a penny plus the number of coins needed to make change for the ** original amount minus a penny**, \n",
    "or a nickel plus the number of coins needed to make change for the ** original amount minus five cents **, \n",
    "or a dime plus the number of coins needed to make change for the ** original amount minus ten cents ** , and so on. \n",
    "So the number of coins needed to make change for the original amount can be computed according to the following:\n",
    "\n",
    "The algorithm for doing what we have just described is shown in Listing 7. In line 3 we are checking our base case; that is, we are trying to make change in the exact amount of one of our coins. If we do not have a coin equal to the amount of change, we make recursive calls for each different coin value less than the amount of change we are trying to make. Line 6 shows how we filter the list of coins to those less than the current value of change using a list comprehension. The recursive call also reduces the total amount of change we need to make by the value of the coin selected. The recursive call is made in line 7. Notice that on that same line we add 1 to our number of coins to account for the fact that we are using a coin. Just adding 1 is the same as if we had made a recursive call asking where we satisfy the base case condition immediately."
   ]
  },
  {
   "cell_type": "code",
   "execution_count": null,
   "metadata": {
    "collapsed": true
   },
   "outputs": [],
   "source": [
    "def recMC(coinValueList,change):\n",
    "    minCoins = change\n",
    "    if change in coinValueList:\n",
    "    return 1\n",
    "    else:\n",
    "        for i in [c for c in coinValueList if c <= change]:\n",
    "            numCoins = 1 + recMC(coinValueList,change-i)\n",
    "        if numCoins < minCoins:\n",
    "            minCoins = numCoins\n",
    "    return minCoins\n",
    "\n",
    "print(recMC([1,5,10,25],63))"
   ]
  },
  {
   "cell_type": "markdown",
   "metadata": {},
   "source": [
    "Each node in the graph corresponds to a call to recMC. The label on the node indicates the amount of change for which we are computing the number of coins. The label on the arrow indicates the coin that we just used. By following the graph we can see the combination of coins that got us to any point in the graph. The main problem is that we are re-doing too many calculations.\n",
    "\n",
    "<img src = \"http://interactivepython.org/runestone/static/pythonds/_images/callTree.png\">\n",
    "\n",
    "** The key to cutting down on the amount of work we do is to remember some of the past results so we can avoid recomputing results we already know. **"
   ]
  },
  {
   "cell_type": "code",
   "execution_count": 20,
   "metadata": {
    "collapsed": true
   },
   "outputs": [],
   "source": [
    "def recMC(coinValueList, change, resultList):\n",
    "#     create a variable to record global optimal value\n",
    "    minCoins = change\n",
    "#     if change matches one of the coins\n",
    "    if change in coinValueList:\n",
    "#     create a list to store fathomed results (number of coins left)\n",
    "#         it can be a dict/list with mapping of index(change amount): optimal result \n",
    "        resultList[change] = 1\n",
    "        return 1\n",
    "#     search the list first before recalculate for current change value\n",
    "    elif resultList[change] > 0:\n",
    "        return resultList[change]\n",
    "    \n",
    "    else:\n",
    "        for i in [c for c in coinValueList if c <= change]:\n",
    "#             reduce the case to searching the optimal solution for [change amount - coin value]\n",
    "#             create a recursive call to original function with change - i\n",
    "#             update the numCoins to account for i\n",
    "            numCoins = 1 + recMC(coinValueList, change - i, resultList)\n",
    "            if numCoins < minCoins:\n",
    "                minCoins = numCoins\n",
    "#                 update the resultList since this is result for a new change amount\n",
    "                resultList[change] = numCoins\n",
    "    return minCoins"
   ]
  },
  {
   "cell_type": "code",
   "execution_count": 25,
   "metadata": {
    "collapsed": false
   },
   "outputs": [
    {
     "name": "stdout",
     "output_type": "stream",
     "text": [
      "6\n"
     ]
    }
   ],
   "source": [
    "\n",
    "print(recMC([1,5,10,25],63,[0]*64))"
   ]
  },
  {
   "cell_type": "code",
   "execution_count": 38,
   "metadata": {
    "collapsed": false,
    "scrolled": false
   },
   "outputs": [
    {
     "name": "stdout",
     "output_type": "stream",
     "text": [
      "10000 loops, best of 3: 156 µs per loop\n"
     ]
    }
   ],
   "source": [
    "import time\n",
    "%timeit recMC([1,5,10,21,25],73,[0]*74)"
   ]
  },
  {
   "cell_type": "markdown",
   "metadata": {},
   "source": [
    "** The resultList needs to be maintained globally, and used as an input, since the function will be called recursively. **"
   ]
  },
  {
   "cell_type": "code",
   "execution_count": 13,
   "metadata": {
    "collapsed": true
   },
   "outputs": [],
   "source": [
    "def make_resultList(change):\n",
    "    index = range(1, change+1)\n",
    "    values = [0] * change\n",
    "#     index_values = zip(index, values)\n",
    "#     resultList = dict(index_values)\n",
    "    return dict(zip(index, values))"
   ]
  },
  {
   "cell_type": "code",
   "execution_count": 33,
   "metadata": {
    "collapsed": false
   },
   "outputs": [
    {
     "name": "stdout",
     "output_type": "stream",
     "text": [
      "10000 loops, best of 3: 161 µs per loop\n"
     ]
    }
   ],
   "source": [
    "def my_func():\n",
    "    resultList = make_resultList(73)\n",
    "    recMC([1,5,10,21,25],73, resultList)\n",
    "    \n",
    "%timeit my_func()"
   ]
  },
  {
   "cell_type": "markdown",
   "metadata": {},
   "source": [
    "### REAL Dynamic Programming ###"
   ]
  },
  {
   "cell_type": "markdown",
   "metadata": {},
   "source": [
    "** A truly dynamic programming algorithm will take a more systematic approach to the problem. Our dynamic programming solution is going to start with making change for one cent and systematically work its way up to the amount of change we require. This guarantees us that at each step of the algorithm we already know the minimum number of coins needed to make change for any smaller amount.\n",
    "**"
   ]
  },
  {
   "cell_type": "markdown",
   "metadata": {},
   "source": [
    "Let’s look at how we would fill in a table of minimum coins to use in making change for 11 cents. Figure 4 illustrates the process. We start with one cent. The only solution possible is one coin (a penny). The next row shows the minimum for one cent and two cents. Again, the only solution is two pennies. The fifth row is where things get interesting. Now we have two options to consider, five pennies or one nickel. How do we decide which is best? We consult the table and see that the number of coins needed to make change for four cents is four, plus one more penny to make five, equals five coins. Or we can look at zero cents plus one more nickel to make five cents equals 1 coin. Since the minimum of one and five is one we store 1 in the table. Fast forward again to the end of the table and consider 11 cents. Figure 5 shows the three options that we have to consider:\n",
    "\n",
    "    1. A penny plus the minimum number of coins to make change for 11−1=1011−1=10 cents (1)\n",
    "    2. A nickel plus the minimum number of coins to make change for 11−5=611−5=6 cents (2)\n",
    "    3. A dime plus the minimum number of coins to make change for 11−10=111−10=1 cent (1)\n",
    "    \n",
    "    Either option 1 or 3 will give us a total of two coins which is the minimum number of coins for 11 cents."
   ]
  },
  {
   "cell_type": "markdown",
   "metadata": {},
   "source": [
    "<img src=\"http://interactivepython.org/runestone/static/pythonds/_images/changeTable.png\">\n",
    "\n",
    "When we have 11 cents to change, we have 3 coins to work with: 1) 1 cent 2) 5 cents 3) 10 cents. Using each will lead us back to one of the solutions we've already calculated.\n",
    "\n",
    "The core idea is to grow the [solution list] to the cents we what to solve. Each time when we grow it, we take a look at what [coins] we can use and look up to solution of the remainder in the [solution list] and add 1. The min(solution_list[remainder] + 1) will give us the best solution for current amount of change.\n",
    "\n",
    "<img src=\"http://interactivepython.org/runestone/static/pythonds/_images/elevenCents.png \">\n",
    "\n"
   ]
  },
  {
   "cell_type": "code",
   "execution_count": 36,
   "metadata": {
    "collapsed": true
   },
   "outputs": [],
   "source": [
    "def dpMakeChange(coinValueList,change,minCoins):\n",
    "#     outer loop grows the solution list (minCoins)\n",
    "    for cents in range(change+1):\n",
    "#         set a large current value\n",
    "        coinCount = cents\n",
    "#         inner loop check the available coins can use\n",
    "        for j in [c for c in coinValueList if c <= cents]:\n",
    "#         then lookup the solution for the remainder (cents - coins_being_used)\n",
    "#             the condition check if current coin provide optimal solution\n",
    "            if minCoins[cents-j] + 1 < coinCount:\n",
    "#         add one since using one additional coin\n",
    "#                 update coincount to keep current best solution\n",
    "                coinCount = minCoins[cents-j]+1\n",
    "        minCoins[cents] = coinCount\n",
    "    \n",
    "    return minCoins[change]"
   ]
  },
  {
   "cell_type": "code",
   "execution_count": 37,
   "metadata": {
    "collapsed": false,
    "scrolled": true
   },
   "outputs": [
    {
     "name": "stdout",
     "output_type": "stream",
     "text": [
      "The slowest run took 4.93 times longer than the fastest. This could mean that an intermediate result is being cached.\n",
      "10000 loops, best of 3: 76.5 µs per loop\n"
     ]
    }
   ],
   "source": [
    "%timeit dpMakeChange([1,5,10,21,25],73,[0]*74)"
   ]
  },
  {
   "cell_type": "code",
   "execution_count": 40,
   "metadata": {
    "collapsed": true
   },
   "outputs": [],
   "source": [
    "def dpMakeChange(coinValueList,change,minCoins,coinsUsed):\n",
    "\n",
    "    for cents in range(change+1):\n",
    "        coinCount = cents\n",
    "        newCoin = 1\n",
    "        \n",
    "        for j in [c for c in coinValueList if c <= cents]:\n",
    "            if minCoins[cents-j] + 1 < coinCount:\n",
    "                coinCount = minCoins[cents-j]+1\n",
    "#             add one more variable to keep track of the coin being used when optimal solution is updated\n",
    "                newCoin = j\n",
    "    \n",
    "        minCoins[cents] = coinCount\n",
    "#         add a list to keep the new coin used in optimal solution for each change value\n",
    "        coinsUsed[cents] = newCoin\n",
    "    \n",
    "    return minCoins[change]"
   ]
  },
  {
   "cell_type": "code",
   "execution_count": 41,
   "metadata": {
    "collapsed": true
   },
   "outputs": [],
   "source": [
    "def printCoins(coinsUsed,change):\n",
    "    coin = change\n",
    "    while coin > 0:\n",
    "        thisCoin = coinsUsed[coin]\n",
    "        print(thisCoin)\n",
    "#         the remainder value of the change is the index of earlier optimal solution\n",
    "        coin = coin - thisCoin"
   ]
  },
  {
   "cell_type": "code",
   "execution_count": 42,
   "metadata": {
    "collapsed": false
   },
   "outputs": [
    {
     "name": "stdout",
     "output_type": "stream",
     "text": [
      "Making change for 74 requires\n",
      "5 coins\n",
      "They are:\n",
      "1\n",
      "10\n",
      "21\n",
      "21\n",
      "21\n",
      "The used list is as follows:\n",
      "[1, 1, 1, 1, 1, 5, 1, 1, 1, 1, 10, 1, 1, 1, 1, 5, 1, 1, 1, 1, 10, 21, 1, 1, 1, 25, 1, 1, 1, 1, 5, 10, 1, 1, 1, 10, 1, 1, 1, 1, 5, 10, 21, 1, 1, 10, 21, 1, 1, 1, 25, 1, 10, 1, 1, 5, 10, 1, 1, 1, 10, 1, 10, 21, 1, 5, 10, 21, 1, 1, 10, 21, 1, 10, 1]\n"
     ]
    }
   ],
   "source": [
    "def main():\n",
    "    amnt = 74\n",
    "    clist = [1,5,10,21,25]\n",
    "    coinsUsed = [0]*(amnt+1)\n",
    "    coinCount = [0]*(amnt+1)\n",
    "\n",
    "    print(\"Making change for\",amnt,\"requires\")\n",
    "    print(dpMakeChange(clist,amnt,coinCount,coinsUsed),\"coins\")\n",
    "    print(\"They are:\")\n",
    "    printCoins(coinsUsed,amnt)\n",
    "    print(\"The used list is as follows:\")\n",
    "    print(coinsUsed)\n",
    "\n",
    "main()\n"
   ]
  }
 ],
 "metadata": {
  "anaconda-cloud": {},
  "kernelspec": {
   "display_name": "Python [conda root]",
   "language": "python",
   "name": "conda-root-py"
  },
  "language_info": {
   "codemirror_mode": {
    "name": "ipython",
    "version": 3
   },
   "file_extension": ".py",
   "mimetype": "text/x-python",
   "name": "python",
   "nbconvert_exporter": "python",
   "pygments_lexer": "ipython3",
   "version": "3.5.2"
  }
 },
 "nbformat": 4,
 "nbformat_minor": 1
}
