{
 "cells": [
  {
   "cell_type": "markdown",
   "metadata": {
    "collapsed": false
   },
   "source": [
    "** efficiency of list operations **\n",
    "\n",
    " - Operation\tBig-O Efficiency\n",
    " - index []\tO(1)\n",
    " - index assignment\tO(1)\n",
    " - append\tO(1)\n",
    " - pop()\tO(1)\n",
    " - pop(i)\tO(n)\n",
    " - insert(i,item)\tO(n)\n",
    " - del operator\tO(n)\n",
    " - iteration\tO(n)\n",
    " - contains (in)\tO(n)\n",
    " - get slice [x:y]\tO(k)\n",
    " - del slice\tO(n)\n",
    " - set slice\tO(n+k)\n",
    " - reverse\tO(n)\n",
    " - concatenate\tO(k)\n",
    " - sort\tO(n log n)\n",
    " - multiply\tO(nk)"
   ]
  },
  {
   "cell_type": "code",
   "execution_count": 12,
   "metadata": {
    "collapsed": false,
    "scrolled": true
   },
   "outputs": [
    {
     "name": "stdout",
     "output_type": "stream",
     "text": [
      "pop(0)   pop()\n",
      "        0.19099,         0.00010\n",
      "        0.60589,         0.00010\n",
      "        0.99023,         0.00010\n",
      "        1.40994,         0.00010\n",
      "        1.92503,         0.00010\n",
      "        2.15690,         0.00016\n",
      "        2.59124,         0.00010\n",
      "        2.96232,         0.00013\n",
      "        3.30104,         0.00010\n",
      "        3.64696,         0.00011\n"
     ]
    }
   ],
   "source": [
    "from timeit import Timer\n",
    "popzero = Timer(\"x.pop(0)\",\n",
    "                \"from __main__ import x\")\n",
    "popend = Timer(\"x.pop()\",\n",
    "               \"from __main__ import x\")\n",
    "print(\"pop(0)   pop()\")\n",
    "for i in range(1000000,10000001,1000000):\n",
    "    x = list(range(i))\n",
    "    pt = popend.timeit(number=1000)\n",
    "    x = list(range(i))\n",
    "    pz = popzero.timeit(number=1000)\n",
    "    print(\"%15.5f, %15.5f\" %(pz,pt))"
   ]
  },
  {
   "cell_type": "code",
   "execution_count": 13,
   "metadata": {
    "collapsed": false
   },
   "outputs": [
    {
     "data": {
      "text/plain": [
       "1286"
      ]
     },
     "execution_count": 13,
     "metadata": {},
     "output_type": "execute_result"
    }
   ],
   "source": [
    "import gc\n",
    "\n",
    "del pz, pt\n",
    "gc.collect()"
   ]
  },
  {
   "cell_type": "markdown",
   "metadata": {},
   "source": [
    "** efficiencies of dict operations **\n",
    "\n",
    " - operation\tBig-O Efficiency\n",
    " - copy\tO(n)\n",
    " - get item\tO(1)\n",
    " - set item\tO(1)\n",
    " - delete item\tO(1)\n",
    " - contains (in)\tO(1)\n",
    " - iteration\tO(n)"
   ]
  },
  {
   "cell_type": "code",
   "execution_count": 9,
   "metadata": {
    "collapsed": false
   },
   "outputs": [
    {
     "name": "stdout",
     "output_type": "stream",
     "text": [
      "10000,     0.086,     0.001\n",
      "30000,     0.218,     0.001\n",
      "50000,     0.365,     0.001\n",
      "70000,     0.483,     0.001\n",
      "90000,     0.636,     0.001\n"
     ]
    }
   ],
   "source": [
    "import timeit\n",
    "import random\n",
    "\n",
    "for i in range(10000,100001,20000):\n",
    "    t = timeit.Timer(\"random.randrange(%d) in x\"%i,\n",
    "                     \"from __main__ import random,x\")\n",
    "    x = list(range(i))\n",
    "    lst_time = t.timeit(number=1000)\n",
    "    x = {j:None for j in range(i)}\n",
    "    d_time = t.timeit(number=1000)\n",
    "    print(\"%d,%10.3f,%10.3f\" % (i, lst_time, d_time))"
   ]
  }
 ],
 "metadata": {
  "anaconda-cloud": {},
  "kernelspec": {
   "display_name": "Python [conda root]",
   "language": "python",
   "name": "conda-root-py"
  },
  "language_info": {
   "codemirror_mode": {
    "name": "ipython",
    "version": 3
   },
   "file_extension": ".py",
   "mimetype": "text/x-python",
   "name": "python",
   "nbconvert_exporter": "python",
   "pygments_lexer": "ipython3",
   "version": "3.5.2"
  }
 },
 "nbformat": 4,
 "nbformat_minor": 1
}
