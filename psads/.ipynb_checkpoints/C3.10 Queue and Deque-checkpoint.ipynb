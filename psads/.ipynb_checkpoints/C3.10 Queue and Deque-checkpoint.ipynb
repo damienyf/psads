{
 "cells": [
  {
   "cell_type": "markdown",
   "metadata": {},
   "source": [
    " **Queue: FIFO structure **"
   ]
  },
  {
   "cell_type": "markdown",
   "metadata": {},
   "source": [
    "- Queue() creates a new queue that is empty. It needs no parameters and returns an empty queue.\n",
    "- enqueue(item) adds a new item to the rear of the queue. It needs the item and returns nothing.\n",
    "- dequeue() removes the front item from the queue. It needs no parameters and returns the item. The queue is modified.\n",
    "- isEmpty() tests to see whether the queue is empty. It needs no parameters and returns a boolean value.\n",
    "- size() returns the number of items in the queue. It needs no parameters and returns an integer."
   ]
  },
  {
   "cell_type": "markdown",
   "metadata": {},
   "source": [
    "Queue class has only one attribute - items\n",
    "\n",
    "** notice, we treat the left (beginning) of the list as the end of the queue **"
   ]
  },
  {
   "cell_type": "code",
   "execution_count": 4,
   "metadata": {
    "collapsed": true
   },
   "outputs": [],
   "source": [
    "class Queue:\n",
    "    def __init__(self):\n",
    "        self.items = []\n",
    "\n",
    "    def isEmpty(self):\n",
    "        return self.items == []\n",
    "\n",
    "    def enqueue(self, item):\n",
    "        self.items.insert(0,item)\n",
    "\n",
    "    def dequeue(self):\n",
    "        return self.items.pop()\n",
    "\n",
    "    def size(self):\n",
    "        return len(self.items)"
   ]
  },
  {
   "cell_type": "markdown",
   "metadata": {},
   "source": [
    "** Hot Potato Exmaple **\n",
    "\n",
    "To begin, let’s consider the children’s game Hot Potato. In this game (see Figure 2) children line up in a circle and pass an item from neighbor to neighbor as fast as they can. At a certain point in the game, the action is stopped and the child who has the item (the potato) is removed from the circle. Play continues until only one child is left.\n",
    "To simplify, let's say the pass of item stops at certain steps (input parameter)."
   ]
  },
  {
   "cell_type": "code",
   "execution_count": 28,
   "metadata": {
    "collapsed": false,
    "scrolled": false
   },
   "outputs": [
    {
     "name": "stdout",
     "output_type": "stream",
     "text": [
      "8 5 Susan\n",
      "16 4 Bill\n",
      "24 3 David\n",
      "32 2 Brad\n",
      "40 1 Jane\n",
      "Kent\n"
     ]
    }
   ],
   "source": [
    "def hotPotato(namelist, stopstep):\n",
    "    nameque = Queue()\n",
    "#     add into queue one by one\n",
    "    for name in namelist:\n",
    "        nameque.enqueue(name)\n",
    "    j = 0   \n",
    "#     move the name from end of the  queue to beginning of the queue, and remove name at stop count\n",
    "    while nameque.size() > 1:\n",
    "        for i in range(stopstep):\n",
    "            nameque.enqueue(nameque.dequeue())\n",
    "#         Assuming the people at the front of the queue holding the ball\n",
    "            j += 1\n",
    "    \n",
    "        x = nameque.dequeue()\n",
    "        print(j, nameque.size(), x)\n",
    "    return nameque.dequeue()\n",
    "        \n",
    "print(hotPotato([\"Bill\",\"David\",\"Susan\",\"Jane\",\"Kent\",\"Brad\"],8))"
   ]
  },
  {
   "cell_type": "markdown",
   "metadata": {},
   "source": [
    "https://zh.wikipedia.org/wiki/%E7%BA%A6%E7%91%9F%E5%A4%AB%E6%96%AF%E9%97%AE%E9%A2%98"
   ]
  },
  {
   "cell_type": "markdown",
   "metadata": {},
   "source": [
    "** Deque: double-end queque **"
   ]
  },
  {
   "cell_type": "markdown",
   "metadata": {},
   "source": [
    "- Deque() creates a new deque that is empty. It needs no parameters and returns an empty deque.\n",
    "- addFront(item) adds a new item to the front of the deque. It needs the item and returns nothing.\n",
    "- addRear(item) adds a new item to the rear of the deque. It needs the item and returns nothing.\n",
    "- removeFront() removes the front item from the deque. It needs no parameters and returns the item. The deque is modified.\n",
    "- removeRear() removes the rear item from the deque. It needs no parameters and returns the item. The deque is modified.\n",
    "- isEmpty() tests to see whether the deque is empty. It needs no parameters and returns a boolean value.\n",
    "- size() returns the number of items in the deque. It needs no parameters and returns an integer."
   ]
  },
  {
   "cell_type": "code",
   "execution_count": 31,
   "metadata": {
    "collapsed": true
   },
   "outputs": [],
   "source": [
    "class Deque:\n",
    "    def __init__(self):\n",
    "        self.items = []\n",
    "\n",
    "    def isEmpty(self):\n",
    "        return self.items == []\n",
    "\n",
    "    def addFront(self, item):\n",
    "        self.items.append(item)\n",
    "\n",
    "#     list[0] is rear\n",
    "    def addRear(self, item):\n",
    "        self.items.insert(0,item)\n",
    "\n",
    "    def removeFront(self):\n",
    "        return self.items.pop()\n",
    "\n",
    "    def removeRear(self):\n",
    "        return self.items.pop(0)\n",
    "\n",
    "    def size(self):\n",
    "        return len(self.items)"
   ]
  },
  {
   "cell_type": "markdown",
   "metadata": {},
   "source": [
    "** Application: palindrome-checker **"
   ]
  },
  {
   "cell_type": "code",
   "execution_count": 40,
   "metadata": {
    "collapsed": false
   },
   "outputs": [
    {
     "data": {
      "text/plain": [
       "True"
      ]
     },
     "execution_count": 40,
     "metadata": {},
     "output_type": "execute_result"
    }
   ],
   "source": [
    "def paliChecker(aString):\n",
    "    \n",
    "    stringDeQue = Deque()\n",
    "    \n",
    "    for c in aString:\n",
    "        stringDeQue.addFront(c)\n",
    "    \n",
    "    stillSame = True\n",
    "#     return print(stringDeQue.items)\n",
    "    while 1 < stringDeQue.size() and stillSame:\n",
    "        if stringDeQue.removeFront() != stringDeQue.removeRear():\n",
    "            stillSame = False\n",
    "\n",
    "    return stillSame\n",
    "\n",
    "paliChecker(\"lsdkjfskf\")\n",
    "paliChecker(\"radar\")"
   ]
  }
 ],
 "metadata": {
  "anaconda-cloud": {},
  "kernelspec": {
   "display_name": "Python [conda env:py35_dl]",
   "language": "python",
   "name": "conda-env-py35_dl-py"
  },
  "language_info": {
   "codemirror_mode": {
    "name": "ipython",
    "version": 3
   },
   "file_extension": ".py",
   "mimetype": "text/x-python",
   "name": "python",
   "nbconvert_exporter": "python",
   "pygments_lexer": "ipython3",
   "version": "3.5.3"
  }
 },
 "nbformat": 4,
 "nbformat_minor": 1
}
