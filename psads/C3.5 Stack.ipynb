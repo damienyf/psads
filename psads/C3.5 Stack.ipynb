{
 "cells": [
  {
   "cell_type": "markdown",
   "metadata": {},
   "source": [
    "** Stack **\n",
    "\n",
    " - Stack() creates a new stack that is empty. It needs no parameters and returns an empty stack.\n",
    " - push(item) adds a new item to the top of the stack. It needs the item and returns nothing.\n",
    " - pop() removes the top item from the stack. It needs no parameters and returns the item. The stack is modified.\n",
    " - peek() returns the top item from the stack but does not remove it. It needs no parameters. The stack is not modified.\n",
    " - isEmpty() tests to see whether the stack is empty. It needs no parameters and returns a boolean value.\n",
    " - size() returns the number of items on the stack. It needs no parameters and returns an integer."
   ]
  },
  {
   "cell_type": "code",
   "execution_count": 1,
   "metadata": {
    "collapsed": true
   },
   "outputs": [],
   "source": [
    "class Stack:\n",
    "     def __init__(self):\n",
    "         self.items = []\n",
    "\n",
    "     def isEmpty(self):\n",
    "         return self.items == []\n",
    "\n",
    "     def push(self, item):\n",
    "         self.items.append(item)\n",
    "\n",
    "     def pop(self):\n",
    "         return self.items.pop()\n",
    "\n",
    "     def peek(self):\n",
    "         return self.items[len(self.items)-1]\n",
    "\n",
    "     def size(self):\n",
    "         return len(self.items)\n"
   ]
  },
  {
   "cell_type": "markdown",
   "metadata": {},
   "source": [
    "** Balanced Parentheses **\n",
    "<img src=\"http://interactivepython.org/runestone/static/pythonds/_images/simpleparcheck.png\">"
   ]
  },
  {
   "cell_type": "markdown",
   "metadata": {},
   "source": [
    "Once you agree that a stack is the appropriate data structure for keeping the parentheses, the statement of the algorithm is straightforward. Starting with an empty stack, process the parenthesis strings from left to right. If a symbol is an opening parenthesis, push it on the stack as a signal that a corresponding closing symbol needs to appear later. If, on the other hand, a symbol is a closing parenthesis, pop the stack. As long as it is possible to pop the stack to match every closing symbol, the parentheses remain balanced. If at any time there is no opening symbol on the stack to match a closing symbol, the string is not balanced properly. At the end of the string, when all symbols have been processed, the stack should be empty. \n",
    "\n",
    "---"
   ]
  },
  {
   "cell_type": "code",
   "execution_count": 8,
   "metadata": {
    "collapsed": false
   },
   "outputs": [
    {
     "name": "stdout",
     "output_type": "stream",
     "text": [
      "True\n",
      "(False, 'open parenthesis not closed')\n",
      "(False, 'close parenthesis with no opening')\n"
     ]
    }
   ],
   "source": [
    "def parenChecker(symbolString):\n",
    "    s = Stack()\n",
    "    balanced = True\n",
    "    index = 0\n",
    "    \n",
    "    while index < len(symbolString) and balanced:\n",
    "        symbol = symbolString[index]\n",
    "        if symbol == \"(\":\n",
    "            s.push(symbol)\n",
    "        elif symbol == \")\":\n",
    "            if s.isEmpty():\n",
    "                balanced = False\n",
    "            else:\n",
    "                s.pop()\n",
    "        index += 1\n",
    "    \n",
    "    if balanced and s.isEmpty():\n",
    "        return True\n",
    "    elif balanced:\n",
    "        return False, 'open parenthesis not closed'\n",
    "    elif s.isEmpty():\n",
    "        return False, 'close parenthesis with no opening'\n",
    "    \n",
    "print(parenChecker('(1+1)/2'))\n",
    "print(parenChecker('(((1+1)/2)'))\n",
    "print(parenChecker('(1+1)/2)'))"
   ]
  },
  {
   "cell_type": "markdown",
   "metadata": {},
   "source": [
    "** A general case **"
   ]
  },
  {
   "cell_type": "markdown",
   "metadata": {},
   "source": [
    "For the general cases, we need to check against multiple types of parenthesis \"[{(<\" and make sure each type can only open and close itself. "
   ]
  },
  {
   "cell_type": "code",
   "execution_count": 9,
   "metadata": {
    "collapsed": true
   },
   "outputs": [],
   "source": [
    "# Create a function to check if inputs are matching parenthesis using index function of a string\n",
    "# if they belongs to two matching parentheses (open - close) then index of two strings should be same\n",
    "\n",
    "def matches(open,close):\n",
    "    opens = \"([{<\"\n",
    "    closers = \")]}>\"\n",
    "    return opens.index(open) == closers.index(close)"
   ]
  },
  {
   "cell_type": "code",
   "execution_count": 12,
   "metadata": {
    "collapsed": false
   },
   "outputs": [
    {
     "name": "stdout",
     "output_type": "stream",
     "text": [
      "True\n",
      "(False, 'open parenthesis not closed')\n",
      "(False, 'close parenthesis with no opening')\n"
     ]
    }
   ],
   "source": [
    "def parenChecker(symbolString):\n",
    "    s = Stack()\n",
    "    balanced = True\n",
    "    index = 0\n",
    "    \n",
    "    while index < len(symbolString) and balanced:\n",
    "        symbol = symbolString[index]\n",
    "        if symbol == \"(\":\n",
    "            s.push(symbol)\n",
    "        elif symbol == \")\":\n",
    "            if s.isEmpty():\n",
    "                balanced = False\n",
    "            else:\n",
    "                thePoped = s.pop()\n",
    "                if matches(thePoped, symbol):\n",
    "                    pass\n",
    "                else:\n",
    "                    balanced = False\n",
    "        index += 1\n",
    "    \n",
    "    if balanced and s.isEmpty():\n",
    "        return True\n",
    "    elif balanced:\n",
    "        return False, 'open parenthesis not closed'\n",
    "    elif s.isEmpty():\n",
    "        return False, 'close parenthesis with no opening'\n",
    "    \n",
    "print(parenChecker('[1+1]/2'))\n",
    "print(parenChecker('(((1+1)/2)'))\n",
    "print(parenChecker('(1+1)/2)'))"
   ]
  },
  {
   "cell_type": "markdown",
   "metadata": {},
   "source": [
    "** Converting Decimal to Binary **"
   ]
  },
  {
   "cell_type": "markdown",
   "metadata": {},
   "source": [
    "The Divide by 2 algorithm assumes that we start with an integer greater than 0. A simple iteration then continually divides the decimal number by 2 and keeps track of the remainder. The first division by 2 gives information as to whether the value is even or odd. An even value will have a remainder of 0. It will have the digit 0 in the ones place. An odd value will have a remainder of 1 and will have the digit 1 in the ones place. We think about building our binary number as a sequence of digits; the first remainder we compute will actually be the last digit in the sequence. As shown in Figure 5, we again see the reversal property that signals that a stack is likely to be the appropriate data structure for solving the problem.\n",
    "\n",
    "<img src = \"http://interactivepython.org/runestone/static/pythonds/_images/dectobin.png\" >\n",
    "\n",
    "The function divideBy2 takes an argument that is a decimal number and repeatedly divides it by 2. Line 7 uses the built-in modulo operator, %, to extract the remainder and line 8 then pushes it on the stack. After the division process reaches 0, a binary string is constructed in lines 11-13. Line 11 creates an empty string. The binary digits are popped from the stack one at a time and appended to the right-hand end of the string. The binary string is then returned."
   ]
  },
  {
   "cell_type": "markdown",
   "metadata": {},
   "source": [
    "The key idea here is, the remainder of n-th division indicates the digits on $2^{n-1}th$ position of binary representation"
   ]
  },
  {
   "cell_type": "code",
   "execution_count": 7,
   "metadata": {
    "collapsed": false,
    "scrolled": true
   },
   "outputs": [
    {
     "name": "stdout",
     "output_type": "stream",
     "text": [
      "11101001\n"
     ]
    }
   ],
   "source": [
    "def divideBy2(decNumber):\n",
    "    remainder_stack = Stack()\n",
    "    \n",
    "    while decNumber > 0:\n",
    "        remainder = decNumber % 2\n",
    "        remainder_stack.push(remainder)\n",
    "        decNumber = decNumber // 2\n",
    "        \n",
    "    binarystr = \"\"\n",
    "    \n",
    "    while not remainder_stack.isEmpty():\n",
    "        binarystr = binarystr + str(remainder_stack.pop())\n",
    "    \n",
    "    return binarystr\n",
    "    \n",
    "print(divideBy2(233))\n"
   ]
  },
  {
   "cell_type": "markdown",
   "metadata": {},
   "source": [
    "**Expand to multiple bases (Baseconvert) **"
   ]
  },
  {
   "cell_type": "markdown",
   "metadata": {},
   "source": [
    "The problem comes when we go beyond base 10. We can no longer simply use the remainders, as they are themselves represented as two-digit decimal numbers. Instead we need to create a set of digits that can be used to represent those remainders beyond 9."
   ]
  },
  {
   "cell_type": "markdown",
   "metadata": {},
   "source": [
    "    We created a string representing digits, and use remainder as index to the string"
   ]
  },
  {
   "cell_type": "code",
   "execution_count": 15,
   "metadata": {
    "collapsed": false
   },
   "outputs": [
    {
     "name": "stdout",
     "output_type": "stream",
     "text": [
      "2\n",
      "10\n",
      "1\n",
      "1A2\n"
     ]
    }
   ],
   "source": [
    "def baseConverter(decNumber, base):\n",
    "    remainder_stack = Stack()\n",
    "    digits = \"0123456789ABCDEF\"\n",
    "    \n",
    "    \n",
    "    while decNumber > 0:\n",
    "        remainder = decNumber % base\n",
    "        remainder_stack.push(remainder)\n",
    "        decNumber = decNumber // base\n",
    "        print(remainder)\n",
    "    binarystr = \"\"\n",
    "    \n",
    "    while not remainder_stack.isEmpty():\n",
    "        binarystr = binarystr + digits[remainder_stack.pop()]\n",
    "    \n",
    "    return binarystr\n",
    "    \n",
    "print(baseConverter(233, 11))"
   ]
  }
 ],
 "metadata": {
  "anaconda-cloud": {},
  "kernelspec": {
   "display_name": "Python [conda root]",
   "language": "python",
   "name": "conda-root-py"
  },
  "language_info": {
   "codemirror_mode": {
    "name": "ipython",
    "version": 3
   },
   "file_extension": ".py",
   "mimetype": "text/x-python",
   "name": "python",
   "nbconvert_exporter": "python",
   "pygments_lexer": "ipython3",
   "version": "3.5.2"
  }
 },
 "nbformat": 4,
 "nbformat_minor": 1
}
